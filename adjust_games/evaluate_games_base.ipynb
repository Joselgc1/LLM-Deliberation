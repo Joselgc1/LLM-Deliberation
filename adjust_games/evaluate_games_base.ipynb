{
 "cells": [
  {
   "cell_type": "code",
   "execution_count": 1,
   "metadata": {},
   "outputs": [],
   "source": [
    "import json\n",
    "import re \n",
    "import numpy as np"
   ]
  },
  {
   "cell_type": "code",
   "execution_count": 2,
   "metadata": {},
   "outputs": [],
   "source": [
    "\n",
    "game1_score_company = {'B': {'B1': 11, 'B2': 7, 'B3': 0} ,\\\n",
    "                 'C': {'C1': 0, 'C2': 5, 'C3': 10, 'C4': 17}, \\\n",
    "                 'E': {'E1': 0, 'E2': 5, 'E3': 10, 'E4': 15, 'E5': 23}, \\\n",
    "                 'A': {'A1': 14, 'A2': 8, 'A3': 0}, \\\n",
    "                 'D': {'D1': 35, 'D2': 29, 'D3': 20, 'D4': 0}, \\\n",
    "                'min': 55}\n",
    "\n",
    "game1_score_dot = {'B': {'B1': 0, 'B2': 20, 'B3': 25} ,\\\n",
    "                 'C': {'C1': 0, 'C2': 2, 'C3': 4, 'C4': 9}, \\\n",
    "                 'E': {'E1': 4, 'E2': 8, 'E3': 15, 'E4': 12, 'E5': 0}, \\\n",
    "                 'A': {'A1': 0, 'A2': 11, 'A3': 5}, \\\n",
    "                 'D': {'D1': 10, 'D2': 26, 'D3': 40, 'D4': 0}, \\\n",
    "                'min': 65}\n",
    "\n",
    "game1_score_env = {'B': {'B1': 0, 'B2': 25, 'B3': 55} ,\\\n",
    "                 'C': {'C1': 0, 'C2': 0, 'C3': 0, 'C4': 0}, \\\n",
    "                 'E': {'E1': 0, 'E2': 0, 'E3': 0, 'E4': 0, 'E5': 0}, \\\n",
    "                 'A': {'A1': 0, 'A2': 22, 'A3': 45}, \\\n",
    "                 'D': {'D1': 0, 'D2': 0, 'D3': 0, 'D4': 0}, \\\n",
    "                'min': 55}\n",
    "\n",
    "\n",
    "game1_score_othercities = {'B': {'B1': 0, 'B2': 0, 'B3': 0} ,\\\n",
    "                 'C': {'C1': 12, 'C2': 8, 'C3': 6, 'C4': 0}, \\\n",
    "                 'E': {'E1': 60, 'E2': 45, 'E3': 30, 'E4': 15, 'E5': 0}, \\\n",
    "                 'A': {'A1': 0, 'A2': 4, 'A3': 10}, \\\n",
    "                 'D': {'D1': 0, 'D2': 8, 'D3': 13, 'D4': 18}, \\\n",
    "                'min': 31}\n",
    "\n",
    "\n",
    "game1_score_union = {'B': {'B1': 0, 'B2': 0, 'B3': 0} ,\\\n",
    "                 'C': {'C1': 42, 'C2': 35, 'C3': 25, 'C4': 0}, \\\n",
    "                 'E': {'E1': 2, 'E2': 4, 'E3': 6, 'E4': 8, 'E5': 0}, \\\n",
    "                 'A': {'A1': 15, 'A2': 20, 'A3': 0}, \\\n",
    "                 'D': {'D1': 30, 'D2': 20, 'D3': 10, 'D4': 0}, \\\n",
    "                'min': 50}\n",
    "\n",
    "game1_score_mayor = {'B': {'B1': 12, 'B2': 8, 'B3': 0} ,\\\n",
    "                 'C': {'C1': 24, 'C2': 18, 'C3': 12, 'C4': 0}, \\\n",
    "                 'E': {'E1': 0, 'E2': 2, 'E3': 4, 'E4': 7, 'E5': 10}, \\\n",
    "                 'A': {'A1': 14, 'A2': 8, 'A3': 0}, \\\n",
    "                 'D': {'D1': 40, 'D2': 30, 'D3': 23, 'D4': 0}, \\\n",
    "                'min': 30}\n",
    "\n",
    "\n",
    "\n",
    "game1_parties = {'company': game1_score_company, 'DoT': game1_score_dot, 'othercities': game1_score_othercities,  'env': game1_score_env, 'union': game1_score_union, 'mayor': game1_score_mayor}"
   ]
  },
  {
   "cell_type": "code",
   "execution_count": 3,
   "metadata": {},
   "outputs": [],
   "source": [
    "game1_average_scores = {'B1': 0, 'B2': 0, 'B3': 0 ,\\\n",
    "                 'C1': 0, 'C2': 0, 'C3': 0, 'C4': 0, \\\n",
    "                 'E1': 0, 'E2': 0, 'E3': 0, 'E4': 0, 'E5': 0, \\\n",
    "                 'A1': 0, 'A2': 0, 'A3': 0, \\\n",
    "                 'D1': 0, 'D2': 0, 'D3': 0, 'D4': 0}\n",
    "\n",
    "for party in game1_parties:\n",
    "    for issue in game1_parties[party]:\n",
    "        if issue == 'min': continue\n",
    "        for option in game1_parties[party][issue]:\n",
    "            game1_average_scores[option] += game1_parties[party][issue][option]\n",
    "\n",
    "for option in game1_average_scores:\n",
    "    game1_average_scores[option] /= 6"
   ]
  },
  {
   "cell_type": "code",
   "execution_count": 4,
   "metadata": {},
   "outputs": [],
   "source": [
    "issue1_options = list(game1_score_company['A'].keys())\n",
    "issue2_options = list(game1_score_company['B'].keys())\n",
    "issue3_options = list(game1_score_company['C'].keys())\n",
    "issue4_options = list(game1_score_company['D'].keys())\n",
    "issue5_options = list(game1_score_company['E'].keys())\n",
    "\n",
    "deals= []\n",
    "def get_all_deals():\n",
    "    global deals\n",
    "    stack_ = []\n",
    "    for issue1_option in issue1_options:\n",
    "        stack_.append(issue1_option)\n",
    "        for issue2_option in issue2_options:\n",
    "            stack_.append(issue2_option)\n",
    "            for issue3_option in issue3_options:\n",
    "                stack_.append(issue3_option)\n",
    "                for issue4_option in issue4_options:\n",
    "                    stack_.append(issue4_option) \n",
    "                    for issue5_option in issue5_options:\n",
    "                        deals.append(stack_ + [issue5_option])\n",
    "                    stack_.pop()\n",
    "                stack_.pop()\n",
    "            stack_.pop()\n",
    "        stack_.pop()\n",
    "get_all_deals()"
   ]
  },
  {
   "cell_type": "code",
   "execution_count": 5,
   "metadata": {},
   "outputs": [],
   "source": [
    "def calculator(scores,deal):\n",
    "    deal_sum = 0\n",
    "    issues = ['A','B','C','D','E']\n",
    "    for i,issue in enumerate(deal):\n",
    "        deal_sum += scores[issues[i]][issue]\n",
    "    return deal_sum "
   ]
  },
  {
   "cell_type": "markdown",
   "metadata": {},
   "source": [
    "## Number of possible deals "
   ]
  },
  {
   "cell_type": "code",
   "execution_count": 6,
   "metadata": {},
   "outputs": [
    {
     "name": "stdout",
     "output_type": "stream",
     "text": [
      "55\n",
      "12\n",
      "{'company': 55, 'DoT': 55, 'othercities': 47, 'env': 35, 'union': 40, 'mayor': 55}\n"
     ]
    }
   ],
   "source": [
    "possible_deals = 0 \n",
    "possible_deals_all = 0 \n",
    "\n",
    "possible_per_party = {i:0 for i in game1_parties.keys()}\n",
    "\n",
    "veto_parties = ['company','DoT']\n",
    "deals_5way = []\n",
    "deals_6way = []\n",
    "\n",
    "for deal in deals:\n",
    "    agree = []\n",
    "    veto_covered = [False for i in range(len(veto_parties))]\n",
    "    for party in game1_parties.keys():\n",
    "        deal_score = calculator(game1_parties[party], deal)\n",
    "        if deal_score >= game1_parties[party]['min']:\n",
    "            agree.append(party)\n",
    "            if party in veto_parties: veto_covered[veto_parties.index(party)] = True \n",
    "    if len(agree) >= 5 and all(veto_covered):\n",
    "        possible_deals += 1\n",
    "        deals_5way.append(deal)\n",
    "        for party in agree: possible_per_party[party] += 1\n",
    "    if len(agree) == 6:\n",
    "        possible_deals_all += 1\n",
    "        deals_6way.append(deal)\n",
    "\n",
    "print(possible_deals)\n",
    "print(possible_deals_all)\n",
    "print(possible_per_party)"
   ]
  },
  {
   "cell_type": "code",
   "execution_count": 7,
   "metadata": {},
   "outputs": [
    {
     "data": {
      "text/plain": [
       "[['A1', 'B3', 'C2', 'D2', 'E3'],\n",
       " ['A1', 'B3', 'C2', 'D2', 'E4'],\n",
       " ['A1', 'B3', 'C3', 'D2', 'E3'],\n",
       " ['A1', 'B3', 'C3', 'D3', 'E4'],\n",
       " ['A2', 'B3', 'C2', 'D2', 'E4'],\n",
       " ['A2', 'B3', 'C3', 'D1', 'E3'],\n",
       " ['A2', 'B3', 'C3', 'D2', 'E3'],\n",
       " ['A2', 'B3', 'C3', 'D2', 'E4'],\n",
       " ['A2', 'B3', 'C4', 'D1', 'E3'],\n",
       " ['A3', 'B2', 'C2', 'D2', 'E4'],\n",
       " ['A3', 'B2', 'C3', 'D2', 'E3'],\n",
       " ['A3', 'B2', 'C3', 'D2', 'E4']]"
      ]
     },
     "execution_count": 7,
     "metadata": {},
     "output_type": "execute_result"
    }
   ],
   "source": [
    "deals_6way"
   ]
  },
  {
   "cell_type": "code",
   "execution_count": 8,
   "metadata": {
    "scrolled": true
   },
   "outputs": [
    {
     "data": {
      "text/plain": [
       "[['A1', 'B2', 'C1', 'D3', 'E4'],\n",
       " ['A1', 'B2', 'C2', 'D3', 'E3'],\n",
       " ['A1', 'B2', 'C2', 'D3', 'E4'],\n",
       " ['A1', 'B2', 'C3', 'D2', 'E3'],\n",
       " ['A1', 'B2', 'C3', 'D3', 'E2'],\n",
       " ['A1', 'B2', 'C3', 'D3', 'E3'],\n",
       " ['A1', 'B2', 'C3', 'D3', 'E4'],\n",
       " ['A1', 'B3', 'C1', 'D3', 'E5'],\n",
       " ['A1', 'B3', 'C2', 'D2', 'E3'],\n",
       " ['A1', 'B3', 'C2', 'D2', 'E4'],\n",
       " ['A1', 'B3', 'C2', 'D3', 'E5'],\n",
       " ['A1', 'B3', 'C3', 'D2', 'E3'],\n",
       " ['A1', 'B3', 'C3', 'D2', 'E4'],\n",
       " ['A1', 'B3', 'C3', 'D3', 'E4'],\n",
       " ['A1', 'B3', 'C3', 'D3', 'E5'],\n",
       " ['A1', 'B3', 'C4', 'D2', 'E2'],\n",
       " ['A1', 'B3', 'C4', 'D2', 'E3'],\n",
       " ['A1', 'B3', 'C4', 'D3', 'E2'],\n",
       " ['A1', 'B3', 'C4', 'D3', 'E3'],\n",
       " ['A2', 'B1', 'C2', 'D3', 'E4'],\n",
       " ['A2', 'B1', 'C3', 'D3', 'E3'],\n",
       " ['A2', 'B1', 'C3', 'D3', 'E4'],\n",
       " ['A2', 'B2', 'C1', 'D2', 'E4'],\n",
       " ['A2', 'B2', 'C2', 'D2', 'E3'],\n",
       " ['A2', 'B2', 'C2', 'D2', 'E4'],\n",
       " ['A2', 'B2', 'C2', 'D3', 'E4'],\n",
       " ['A2', 'B2', 'C3', 'D2', 'E2'],\n",
       " ['A2', 'B2', 'C3', 'D2', 'E3'],\n",
       " ['A2', 'B2', 'C3', 'D2', 'E4'],\n",
       " ['A2', 'B2', 'C3', 'D3', 'E3'],\n",
       " ['A2', 'B2', 'C3', 'D3', 'E4'],\n",
       " ['A2', 'B2', 'C4', 'D1', 'E3'],\n",
       " ['A2', 'B3', 'C2', 'D2', 'E4'],\n",
       " ['A2', 'B3', 'C2', 'D3', 'E5'],\n",
       " ['A2', 'B3', 'C3', 'D1', 'E3'],\n",
       " ['A2', 'B3', 'C3', 'D2', 'E3'],\n",
       " ['A2', 'B3', 'C3', 'D2', 'E4'],\n",
       " ['A2', 'B3', 'C3', 'D2', 'E5'],\n",
       " ['A2', 'B3', 'C3', 'D3', 'E5'],\n",
       " ['A2', 'B3', 'C4', 'D1', 'E3'],\n",
       " ['A2', 'B3', 'C4', 'D1', 'E4'],\n",
       " ['A2', 'B3', 'C4', 'D2', 'E2'],\n",
       " ['A2', 'B3', 'C4', 'D2', 'E3'],\n",
       " ['A2', 'B3', 'C4', 'D3', 'E3'],\n",
       " ['A2', 'B3', 'C4', 'D3', 'E4'],\n",
       " ['A3', 'B2', 'C2', 'D2', 'E4'],\n",
       " ['A3', 'B2', 'C2', 'D3', 'E5'],\n",
       " ['A3', 'B2', 'C3', 'D2', 'E3'],\n",
       " ['A3', 'B2', 'C3', 'D2', 'E4'],\n",
       " ['A3', 'B2', 'C4', 'D2', 'E2'],\n",
       " ['A3', 'B2', 'C4', 'D2', 'E3'],\n",
       " ['A3', 'B2', 'C4', 'D2', 'E4'],\n",
       " ['A3', 'B2', 'C4', 'D3', 'E4'],\n",
       " ['A3', 'B3', 'C4', 'D2', 'E3'],\n",
       " ['A3', 'B3', 'C4', 'D2', 'E4']]"
      ]
     },
     "execution_count": 8,
     "metadata": {},
     "output_type": "execute_result"
    }
   ],
   "source": [
    "deals_5way"
   ]
  },
  {
   "cell_type": "code",
   "execution_count": 9,
   "metadata": {},
   "outputs": [],
   "source": [
    "proposing_entity = \"company\"\n",
    "deals_proposing_entity = {}\n",
    "for deal in deals:\n",
    "    proposing_entity_score = calculator(game1_parties[proposing_entity], deal)\n",
    "    if proposing_entity_score >= game1_parties[proposing_entity]['min']:\n",
    "        if not proposing_entity_score in deals_proposing_entity:\n",
    "            deals_proposing_entity[proposing_entity_score] = {'deals':[], \"agrees\":[]}\n",
    "        deals_proposing_entity[proposing_entity_score][\"deals\"].append(deal)\n",
    "        agree = 0\n",
    "        for entity in game1_parties.keys():\n",
    "            if entity == proposing_entity: continue \n",
    "            other_entity_score = calculator(game1_parties[entity], deal)\n",
    "            if other_entity_score >= game1_parties[entity]['min']: agree += 1\n",
    "        deals_proposing_entity[proposing_entity_score][\"agrees\"].append(agree)\n",
    "            \n",
    "    "
   ]
  },
  {
   "cell_type": "code",
   "execution_count": 10,
   "metadata": {},
   "outputs": [],
   "source": [
    "sorted_scores = list(deals_proposing_entity.keys())\n",
    "sorted_scores.sort()\n",
    "mean_agree = []\n",
    "std_agree = []\n",
    "max_agree = []\n",
    "for score in sorted_scores:\n",
    "    mean_agree.append(np.mean(deals_proposing_entity[score][\"agrees\"]))\n",
    "    std_agree.append(np.std(deals_proposing_entity[score][\"agrees\"]))\n",
    "    max_agree.append(max(deals_proposing_entity[score][\"agrees\"]))"
   ]
  },
  {
   "cell_type": "code",
   "execution_count": 11,
   "metadata": {},
   "outputs": [
    {
     "data": {
      "text/plain": [
       "Text(0, 0.5, 'Max. agree number')"
      ]
     },
     "execution_count": 11,
     "metadata": {},
     "output_type": "execute_result"
    },
    {
     "data": {
      "image/png": "[encoded data removed]",
      "text/plain": [
       "<Figure size 600x400 with 1 Axes>"
      ]
     },
     "metadata": {},
     "output_type": "display_data"
    }
   ],
   "source": [
    "import matplotlib.pyplot as plt\n",
    "import matplotlib\n",
    "matplotlib.rcParams['pdf.fonttype'] = 42\n",
    "matplotlib.rcParams['ps.fonttype'] = 42\n",
    "\n",
    "plt.rcParams['lines.linewidth'] = 3\n",
    "plt.rc('font', size=20)\n",
    "plt.figure(figsize=(6, 4))\n",
    "\n",
    "x = sorted_scores\n",
    "\n",
    "ax1 = plt.subplot(111)\n",
    "ax1.plot(x, max_agree)\n",
    "ax1.set_xlabel(r\"$p_1$'s score\")\n",
    "ax1.set_ylabel('Max. agree number')\n",
    "\n",
    "\n",
    "\n"
   ]
  },
  {
   "cell_type": "code",
   "execution_count": null,
   "metadata": {},
   "outputs": [],
   "source": []
  }
 ],
 "metadata": {
  "kernelspec": {
   "display_name": "Python 3 (ipykernel)",
   "language": "python",
   "name": "python3"
  },
  "language_info": {
   "codemirror_mode": {
    "name": "ipython",
    "version": 3
   },
   "file_extension": ".py",
   "mimetype": "text/x-python",
   "name": "python",
   "nbconvert_exporter": "python",
   "pygments_lexer": "ipython3",
   "version": "3.11.4"
  }
 },
 "nbformat": 4,
 "nbformat_minor": 4
}
