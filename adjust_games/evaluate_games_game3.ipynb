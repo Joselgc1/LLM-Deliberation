{
 "cells": [
  {
   "cell_type": "code",
   "execution_count": 1,
   "metadata": {},
   "outputs": [],
   "source": [
    "import json\n",
    "import re \n",
    "import numpy as np"
   ]
  },
  {
   "cell_type": "code",
   "execution_count": 2,
   "metadata": {},
   "outputs": [],
   "source": [
    "\n",
    "game1_score_investors = {'B': {'B1': 18, 'B2': 13, 'B3': 0} ,\\\n",
    "                 'C': {'C1': 25, 'C2': 10, 'C3': 0, 'C4': 32}, \\\n",
    "                 'E': {'E1': 10, 'E2': 5, 'E3': 0}, \\\n",
    "                 'A': {'A1': 25, 'A2': 20, 'A3': 0, 'A4': 10}, \\\n",
    "                 'D': {'D1': 15, 'D2': 12, 'D3': 8, 'D4': 4, 'D5': 0}, \\\n",
    "                'min': 62}\n",
    "\n",
    "game1_score_federal = {'B': {'B1': 0, 'B2': 25, 'B3': 20} ,\\\n",
    "                 'C': {'C1': 10, 'C2': 14, 'C3': 6, 'C4': 0}, \\\n",
    "                 'E': {'E1': 0, 'E2': 8, 'E3': 5}, \\\n",
    "                 'A': {'A1': 0, 'A2': 40, 'A3': 10, 'A4': 29}, \\\n",
    "                 'D': {'D1': 0, 'D2': 9, 'D3': 13, 'D4': 7, 'D5': 0}, \\\n",
    "                'min': 55}\n",
    "\n",
    "game1_score_state = {'B': {'B1': 0, 'B2': 24, 'B3': 30} ,\\\n",
    "                 'C': {'C1': 24, 'C2': 12, 'C3': 30, 'C4': 0}, \\\n",
    "                 'E': {'E1': 0, 'E2': 11, 'E3': 16}, \\\n",
    "                 'A': {'A1': 0, 'A2': 5, 'A3': 3, 'A4': 7}, \\\n",
    "                 'D': {'D1': 0, 'D2': 11, 'D3': 17, 'D4': 15, 'D5': 5}, \\\n",
    "                'min': 45}\n",
    "\n",
    "\n",
    "game1_score_activists =  {'B': {'B1': 0, 'B2': 40, 'B3': 65} ,\\\n",
    "                 'C': {'C1': 0, 'C2': 0, 'C3': 0, 'C4': 0}, \\\n",
    "                 'E': {'E1': 0, 'E2': 0, 'E3': 0}, \\\n",
    "                 'A': {'A1': 0, 'A2': 0, 'A3': 0, 'A4': 0}, \\\n",
    "                 'D': {'D1': 0, 'D2': 15, 'D3': 20, 'D4': 35, 'D5': 25}, \\\n",
    "                'min': 50}\n",
    "\n",
    "game1_score_france = {'B': {'B1': 0, 'B2': 25, 'B3': 30} ,\\\n",
    "                 'C': {'C1': 0, 'C2': 0, 'C3': 0, 'C4': 0}, \\\n",
    "                 'E': {'E1': 0, 'E2': 20, 'E3': 25}, \\\n",
    "                 'A': {'A1': 0, 'A2': 45, 'A3': 20, 'A4': 20}, \\\n",
    "                 'D': {'D1': 0, 'D2': 0, 'D3': 0, 'D4': 0, 'D5': 0}, \\\n",
    "                'min': 65}\n",
    "\n",
    "game1_score_community = {'B': {'B1': 0, 'B2': 15, 'B3': 20} ,\\\n",
    "                 'C': {'C1': 0, 'C2': 0, 'C3': 0, 'C4': 0}, \\\n",
    "                 'E': {'E1': 0, 'E2': 15, 'E3': 20}, \\\n",
    "                 'A': {'A1': 20, 'A2': 20, 'A3': 25, 'A4': 0}, \\\n",
    "                 'D': {'D1': 0, 'D2': 10, 'D3': 25, 'D4': 30, 'D5': 35}, \\\n",
    "                'min': 50}\n",
    "\n",
    "\n",
    "\n",
    "game1_parties = {'federal': game1_score_federal, 'investors': game1_score_investors, 'state': game1_score_state,  \"activists\": game1_score_activists, 'france': game1_score_france, 'community': game1_score_community}"
   ]
  },
  {
   "cell_type": "code",
   "execution_count": 3,
   "metadata": {},
   "outputs": [],
   "source": [
    "game1_average_scores = {'B1': 0, 'B2': 0, 'B3': 0 ,\\\n",
    "                 'C1': 0, 'C2': 0, 'C3': 0, 'C4': 0, \\\n",
    "                 'E1': 0, 'E2': 0, 'E3': 0, \\\n",
    "                 'A1': 0, 'A2': 0, 'A3': 0, 'A4': 0, \\\n",
    "                 'D1': 0, 'D2': 0, 'D3': 0, 'D4': 0, 'D5': 0}\n",
    "\n",
    "for party in game1_parties:\n",
    "    for issue in game1_parties[party]:\n",
    "        if issue == 'min': continue\n",
    "        for option in game1_parties[party][issue]:\n",
    "            game1_average_scores[option] += game1_parties[party][issue][option]\n",
    "\n",
    "for option in game1_average_scores:\n",
    "    game1_average_scores[option] /= 6\n",
    "    "
   ]
  },
  {
   "cell_type": "code",
   "execution_count": 5,
   "metadata": {},
   "outputs": [],
   "source": [
    "issue1_options = list(game1_score_federal['A'].keys())\n",
    "issue2_options = list(game1_score_federal['B'].keys())\n",
    "issue3_options = list(game1_score_federal['C'].keys())\n",
    "issue4_options = list(game1_score_federal['D'].keys())\n",
    "issue5_options = list(game1_score_federal['E'].keys())\n",
    "\n",
    "deals= []\n",
    "def get_all_deals():\n",
    "    global deals\n",
    "    stack_ = []\n",
    "    for issue1_option in issue1_options:\n",
    "        stack_.append(issue1_option)\n",
    "        for issue2_option in issue2_options:\n",
    "            stack_.append(issue2_option)\n",
    "            for issue3_option in issue3_options:\n",
    "                stack_.append(issue3_option)\n",
    "                for issue4_option in issue4_options:\n",
    "                    stack_.append(issue4_option) \n",
    "                    for issue5_option in issue5_options:\n",
    "                        deals.append(stack_ + [issue5_option])\n",
    "                    stack_.pop()\n",
    "                stack_.pop()\n",
    "            stack_.pop()\n",
    "        stack_.pop()\n",
    "get_all_deals()"
   ]
  },
  {
   "cell_type": "code",
   "execution_count": 6,
   "metadata": {},
   "outputs": [],
   "source": [
    "def calculator(scores,deal):\n",
    "    deal_sum = 0\n",
    "    issues = ['A','B','C','D','E']\n",
    "    for i,issue in enumerate(deal):\n",
    "        deal_sum += scores[issues[i]][issue]\n",
    "    return deal_sum "
   ]
  },
  {
   "cell_type": "code",
   "execution_count": 7,
   "metadata": {},
   "outputs": [
    {
     "name": "stdout",
     "output_type": "stream",
     "text": [
      "57\n",
      "34\n",
      "{'federal': 57, 'investors': 57, 'state': 54, 'activists': 46, 'france': 55, 'community': 50}\n"
     ]
    }
   ],
   "source": [
    "possible_deals = 0 \n",
    "possible_deals_all = 0 \n",
    "\n",
    "possible_per_party = {i:0 for i in game1_parties.keys()}\n",
    "\n",
    "veto_parties = ['federal','investors']\n",
    "deals_5way = []\n",
    "deals_6way = []\n",
    "\n",
    "for deal in deals:\n",
    "    agree = []\n",
    "    veto_covered = [False for i in range(len(veto_parties))]\n",
    "    for party in game1_parties.keys():\n",
    "        deal_score = calculator(game1_parties[party], deal)\n",
    "        if deal_score >= game1_parties[party]['min']:\n",
    "            agree.append(party)\n",
    "            if party in veto_parties: veto_covered[veto_parties.index(party)] = True \n",
    "    if len(agree) >= 5 and all(veto_covered):\n",
    "        possible_deals += 1\n",
    "        deals_5way.append(deal)\n",
    "        for party in agree: possible_per_party[party] += 1\n",
    "    if len(agree) == 6:\n",
    "        possible_deals_all += 1\n",
    "        deals_6way.append(deal)\n",
    "\n",
    "print(possible_deals)\n",
    "print(possible_deals_all)\n",
    "print(possible_per_party)"
   ]
  },
  {
   "cell_type": "code",
   "execution_count": 8,
   "metadata": {},
   "outputs": [
    {
     "data": {
      "text/plain": [
       "[['A2', 'B2', 'C1', 'D2', 'E2'],\n",
       " ['A2', 'B2', 'C1', 'D2', 'E3'],\n",
       " ['A2', 'B2', 'C1', 'D3', 'E1'],\n",
       " ['A2', 'B2', 'C1', 'D3', 'E2'],\n",
       " ['A2', 'B2', 'C1', 'D3', 'E3'],\n",
       " ['A2', 'B2', 'C1', 'D4', 'E1'],\n",
       " ['A2', 'B2', 'C1', 'D4', 'E2'],\n",
       " ['A2', 'B2', 'C1', 'D4', 'E3'],\n",
       " ['A2', 'B2', 'C1', 'D5', 'E1'],\n",
       " ['A2', 'B2', 'C1', 'D5', 'E2'],\n",
       " ['A2', 'B2', 'C4', 'D2', 'E2'],\n",
       " ['A2', 'B2', 'C4', 'D2', 'E3'],\n",
       " ['A2', 'B2', 'C4', 'D3', 'E1'],\n",
       " ['A2', 'B2', 'C4', 'D3', 'E2'],\n",
       " ['A2', 'B2', 'C4', 'D3', 'E3'],\n",
       " ['A2', 'B2', 'C4', 'D4', 'E2'],\n",
       " ['A2', 'B2', 'C4', 'D4', 'E3'],\n",
       " ['A2', 'B2', 'C4', 'D5', 'E2'],\n",
       " ['A2', 'B2', 'C4', 'D5', 'E3'],\n",
       " ['A2', 'B3', 'C1', 'D1', 'E2'],\n",
       " ['A2', 'B3', 'C1', 'D2', 'E1'],\n",
       " ['A2', 'B3', 'C1', 'D2', 'E2'],\n",
       " ['A2', 'B3', 'C1', 'D3', 'E1'],\n",
       " ['A2', 'B3', 'C4', 'D1', 'E2'],\n",
       " ['A2', 'B3', 'C4', 'D1', 'E3'],\n",
       " ['A2', 'B3', 'C4', 'D2', 'E1'],\n",
       " ['A2', 'B3', 'C4', 'D2', 'E2'],\n",
       " ['A2', 'B3', 'C4', 'D2', 'E3'],\n",
       " ['A2', 'B3', 'C4', 'D3', 'E1'],\n",
       " ['A2', 'B3', 'C4', 'D3', 'E2'],\n",
       " ['A2', 'B3', 'C4', 'D4', 'E1'],\n",
       " ['A4', 'B2', 'C4', 'D3', 'E2'],\n",
       " ['A4', 'B2', 'C4', 'D3', 'E3'],\n",
       " ['A4', 'B2', 'C4', 'D4', 'E2']]"
      ]
     },
     "execution_count": 8,
     "metadata": {},
     "output_type": "execute_result"
    }
   ],
   "source": [
    "deals_6way"
   ]
  },
  {
   "cell_type": "code",
   "execution_count": 9,
   "metadata": {},
   "outputs": [
    {
     "data": {
      "text/plain": [
       "[['A1', 'B2', 'C1', 'D3', 'E2'],\n",
       " ['A1', 'B2', 'C2', 'D2', 'E2'],\n",
       " ['A2', 'B1', 'C1', 'D2', 'E3'],\n",
       " ['A2', 'B1', 'C1', 'D3', 'E2'],\n",
       " ['A2', 'B1', 'C1', 'D3', 'E3'],\n",
       " ['A2', 'B1', 'C1', 'D4', 'E2'],\n",
       " ['A2', 'B1', 'C1', 'D4', 'E3'],\n",
       " ['A2', 'B1', 'C1', 'D5', 'E2'],\n",
       " ['A2', 'B1', 'C1', 'D5', 'E3'],\n",
       " ['A2', 'B2', 'C1', 'D1', 'E2'],\n",
       " ['A2', 'B2', 'C1', 'D1', 'E3'],\n",
       " ['A2', 'B2', 'C1', 'D2', 'E1'],\n",
       " ['A2', 'B2', 'C1', 'D2', 'E2'],\n",
       " ['A2', 'B2', 'C1', 'D2', 'E3'],\n",
       " ['A2', 'B2', 'C1', 'D3', 'E1'],\n",
       " ['A2', 'B2', 'C1', 'D3', 'E2'],\n",
       " ['A2', 'B2', 'C1', 'D3', 'E3'],\n",
       " ['A2', 'B2', 'C1', 'D4', 'E1'],\n",
       " ['A2', 'B2', 'C1', 'D4', 'E2'],\n",
       " ['A2', 'B2', 'C1', 'D4', 'E3'],\n",
       " ['A2', 'B2', 'C1', 'D5', 'E1'],\n",
       " ['A2', 'B2', 'C1', 'D5', 'E2'],\n",
       " ['A2', 'B2', 'C2', 'D1', 'E2'],\n",
       " ['A2', 'B2', 'C2', 'D2', 'E1'],\n",
       " ['A2', 'B2', 'C4', 'D1', 'E3'],\n",
       " ['A2', 'B2', 'C4', 'D2', 'E2'],\n",
       " ['A2', 'B2', 'C4', 'D2', 'E3'],\n",
       " ['A2', 'B2', 'C4', 'D3', 'E1'],\n",
       " ['A2', 'B2', 'C4', 'D3', 'E2'],\n",
       " ['A2', 'B2', 'C4', 'D3', 'E3'],\n",
       " ['A2', 'B2', 'C4', 'D4', 'E1'],\n",
       " ['A2', 'B2', 'C4', 'D4', 'E2'],\n",
       " ['A2', 'B2', 'C4', 'D4', 'E3'],\n",
       " ['A2', 'B2', 'C4', 'D5', 'E1'],\n",
       " ['A2', 'B2', 'C4', 'D5', 'E2'],\n",
       " ['A2', 'B2', 'C4', 'D5', 'E3'],\n",
       " ['A2', 'B3', 'C1', 'D1', 'E1'],\n",
       " ['A2', 'B3', 'C1', 'D1', 'E2'],\n",
       " ['A2', 'B3', 'C1', 'D2', 'E1'],\n",
       " ['A2', 'B3', 'C1', 'D2', 'E2'],\n",
       " ['A2', 'B3', 'C1', 'D3', 'E1'],\n",
       " ['A2', 'B3', 'C4', 'D1', 'E2'],\n",
       " ['A2', 'B3', 'C4', 'D1', 'E3'],\n",
       " ['A2', 'B3', 'C4', 'D2', 'E1'],\n",
       " ['A2', 'B3', 'C4', 'D2', 'E2'],\n",
       " ['A2', 'B3', 'C4', 'D2', 'E3'],\n",
       " ['A2', 'B3', 'C4', 'D3', 'E1'],\n",
       " ['A2', 'B3', 'C4', 'D3', 'E2'],\n",
       " ['A2', 'B3', 'C4', 'D4', 'E1'],\n",
       " ['A2', 'B3', 'C4', 'D5', 'E1'],\n",
       " ['A4', 'B2', 'C1', 'D2', 'E2'],\n",
       " ['A4', 'B2', 'C4', 'D2', 'E2'],\n",
       " ['A4', 'B2', 'C4', 'D2', 'E3'],\n",
       " ['A4', 'B2', 'C4', 'D3', 'E2'],\n",
       " ['A4', 'B2', 'C4', 'D3', 'E3'],\n",
       " ['A4', 'B2', 'C4', 'D4', 'E2'],\n",
       " ['A4', 'B3', 'C4', 'D1', 'E2']]"
      ]
     },
     "execution_count": 9,
     "metadata": {},
     "output_type": "execute_result"
    }
   ],
   "source": [
    "deals_5way"
   ]
  },
  {
   "cell_type": "code",
   "execution_count": 10,
   "metadata": {},
   "outputs": [],
   "source": [
    "proposing_entity = \"investors\"\n",
    "deals_proposing_entity = {}\n",
    "for deal in deals:\n",
    "    proposing_entity_score = calculator(game1_parties[proposing_entity], deal)\n",
    "    if proposing_entity_score >= game1_parties[proposing_entity]['min']:\n",
    "        if not proposing_entity_score in deals_proposing_entity:\n",
    "            deals_proposing_entity[proposing_entity_score] = {'deals':[], \"agrees\":[]}\n",
    "        deals_proposing_entity[proposing_entity_score][\"deals\"].append(deal)\n",
    "        agree = 0\n",
    "        for entity in game1_parties.keys():\n",
    "            if entity == proposing_entity: continue \n",
    "            other_entity_score = calculator(game1_parties[entity], deal)\n",
    "            if other_entity_score >= game1_parties[entity]['min']: agree += 1\n",
    "        deals_proposing_entity[proposing_entity_score][\"agrees\"].append(agree)"
   ]
  },
  {
   "cell_type": "code",
   "execution_count": 11,
   "metadata": {},
   "outputs": [],
   "source": [
    "import numpy as np\n",
    "sorted_scores = list(deals_proposing_entity.keys())\n",
    "sorted_scores.sort()\n",
    "mean_agree = []\n",
    "std_agree = []\n",
    "max_agree = []\n",
    "for score in sorted_scores:\n",
    "    mean_agree.append(np.mean(deals_proposing_entity[score][\"agrees\"]))\n",
    "    std_agree.append(np.std(deals_proposing_entity[score][\"agrees\"]))\n",
    "    max_agree.append(max(deals_proposing_entity[score][\"agrees\"]))"
   ]
  },
  {
   "cell_type": "code",
   "execution_count": 12,
   "metadata": {},
   "outputs": [
    {
     "data": {
      "text/plain": [
       "Text(0, 0.5, 'Max. agree number')"
      ]
     },
     "execution_count": 12,
     "metadata": {},
     "output_type": "execute_result"
    },
    {
     "data": {
      "image/png": "[encoded data removed]",
      "text/plain": [
       "<Figure size 600x400 with 1 Axes>"
      ]
     },
     "metadata": {},
     "output_type": "display_data"
    }
   ],
   "source": [
    "import matplotlib.pyplot as plt\n",
    "import matplotlib\n",
    "matplotlib.rcParams['pdf.fonttype'] = 42\n",
    "matplotlib.rcParams['ps.fonttype'] = 42\n",
    "\n",
    "plt.rcParams['lines.linewidth'] = 3\n",
    "plt.rc('font', size=20)\n",
    "plt.figure(figsize=(6, 4))\n",
    "\n",
    "x = sorted_scores\n",
    "\n",
    "ax1 = plt.subplot(111)\n",
    "ax1.plot(x, max_agree)\n",
    "\n",
    "ax1.set_xlabel(r\"$p_1$'s score\")\n",
    "ax1.set_ylabel('Max. agree number')\n",
    "\n"
   ]
  },
  {
   "cell_type": "code",
   "execution_count": null,
   "metadata": {},
   "outputs": [],
   "source": []
  }
 ],
 "metadata": {
  "kernelspec": {
   "display_name": "Python 3 (ipykernel)",
   "language": "python",
   "name": "python3"
  },
  "language_info": {
   "codemirror_mode": {
    "name": "ipython",
    "version": 3
   },
   "file_extension": ".py",
   "mimetype": "text/x-python",
   "name": "python",
   "nbconvert_exporter": "python",
   "pygments_lexer": "ipython3",
   "version": "3.11.4"
  }
 },
 "nbformat": 4,
 "nbformat_minor": 4
}
