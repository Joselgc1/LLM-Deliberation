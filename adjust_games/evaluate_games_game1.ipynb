{
 "cells": [
  {
   "cell_type": "code",
   "execution_count": 1,
   "metadata": {},
   "outputs": [],
   "source": [
    "import json\n",
    "import re \n",
    "import numpy as np"
   ]
  },
  {
   "cell_type": "code",
   "execution_count": 2,
   "metadata": {},
   "outputs": [],
   "source": [
    "\n",
    "game1_score_company = {'B': {'B1': 10, 'B2': 15, 'B3': 29, 'B4': 40} ,\\\n",
    "                 'C': {'C1': 12, 'C2': 8, 'C3': 4, 'C4': 0}, \\\n",
    "                 'E': {'E1': 0, 'E2': 23, 'E3': 17}, \\\n",
    "                 'A': {'A1': 17, 'A2': 5, 'A3': 9}, \\\n",
    "                 'D': {'D1': 8, 'D2': 6, 'D3': 4, 'D4': 2, 'D5': 0}, \\\n",
    "                'min': 60}\n",
    "\n",
    "game1_score_bank = {'B': {'B1': 10, 'B2': 26, 'B3': 40, 'B4': 10} ,\\\n",
    "              'C': {'C1': 0, 'C2': 15, 'C3': 20, 'C4': 25}, \\\n",
    "              'E': {'E1': 7, 'E2': 0, 'E3': 4}, \\\n",
    "              'A': {'A1': 0, 'A2': 9, 'A3': 13}, \\\n",
    "              'D': {'D1': 0, 'D2': 9, 'D3': 11, 'D4': 13, 'D5': 15}, \\\n",
    "                'min': 60}\n",
    "\n",
    "game1_score_env = {'B': {'B1': 11, 'B2': 9, 'B3': 5, 'B4': 0} ,\\\n",
    "             'C': {'C1': 0, 'C2': 10, 'C3': 29, 'C4': 40}, \\\n",
    "             'E': {'E1': 2, 'E2': 5, 'E3': 9}, \\\n",
    "             'A': {'A1': 0, 'A2': 20, 'A3': 25}, \\\n",
    "             'D': {'D1': 0, 'D2': 9, 'D3': 11, 'D4': 13, 'D5': 15}, \\\n",
    "                'min': 60}\n",
    "\n",
    "\n",
    "game1_score_community = {'B': {'B1': 10, 'B2': 8, 'B3': 2, 'B4': 0} ,\\\n",
    "                 'C': {'C1': 0, 'C2': 5, 'C3': 15, 'C4': 9}, \\\n",
    "                 'E': {'E1': 0, 'E2': 0, 'E3': 0}, \\\n",
    "                 'A': {'A1': 0, 'A2': 45, 'A3': 25}, \\\n",
    "                 'D': {'D1': 0, 'D2': 15, 'D3': 20, 'D4': 25, 'D5': 30}, \\\n",
    "                'min': 47}\n",
    "\n",
    "\n",
    "game1_score_tourism = {'B': {'B1': 10, 'B2': 20, 'B3': 25, 'B4': 30} ,\\\n",
    "                 'C': {'C1': 0, 'C2': 14, 'C3': 7, 'C4': 0}, \\\n",
    "                 'E': {'E1': 10, 'E2': 5, 'E3': 17}, \\\n",
    "                 'A': {'A1': 30, 'A2': 0, 'A3': 25}, \\\n",
    "                 'D': {'D1': 0, 'D2': 9, 'D3': 5, 'D4': 2, 'D5': 0}, \\\n",
    "                'min': 57}\n",
    "\n",
    "game1_score_construction = {'B': {'B1': 10, 'B2': 15, 'B3': 29, 'B4': 40}  ,\\\n",
    "                 'C': {'C1': 6, 'C2': 10, 'C3': 2, 'C4': 0}, \\\n",
    "                 'E': {'E1': 0, 'E2': 22, 'E3': 15}, \\\n",
    "                 'A': {'A1': 15, 'A2': 22, 'A3': 5}, \\\n",
    "                 'D': {'D1': 0, 'D2': 6, 'D3': 4, 'D4': 2, 'D5': 0}, \\\n",
    "                'min': 57}\n",
    "\n",
    "\n",
    "\n",
    "game1_parties = {'company': game1_score_company, 'bank': game1_score_bank, 'tourism': game1_score_tourism,  \"env\": game1_score_env, 'construction': game1_score_construction, 'community': game1_score_community}"
   ]
  },
  {
   "cell_type": "raw",
   "metadata": {},
   "source": [
    "\n",
    "game1_score_company = {'B': {'B1': 10, 'B2': 15, 'B3': 29, 'B4': 40} ,\\\n",
    "                 'C': {'C1': 12, 'C2': 8, 'C3': 4, 'C4': 0}, \\\n",
    "                 'E': {'E1': 0, 'E2': 23, 'E3': 17}, \\\n",
    "                 'A': {'A1': 17, 'A2': 5, 'A3': 9}, \\\n",
    "                 'D': {'D1': 8, 'D2': 6, 'D3': 4, 'D4': 2, 'D5': 0}, \\\n",
    "                'min': 55}\n",
    "\n",
    "game1_score_bank = {'B': {'B1': 10, 'B2': 26, 'B3': 40, 'B4': 10} ,\\\n",
    "              'C': {'C1': 0, 'C2': 15, 'C3': 20, 'C4': 25}, \\\n",
    "              'E': {'E1': 7, 'E2': 0, 'E3': 4}, \\\n",
    "              'A': {'A1': 0, 'A2': 9, 'A3': 13}, \\\n",
    "              'D': {'D1': 0, 'D2': 9, 'D3': 11, 'D4': 13, 'D5': 15}, \\\n",
    "                'min': 65}\n",
    "\n",
    "game1_score_env = {'B': {'B1': 11, 'B2': 9, 'B3': 5, 'B4': 0} ,\\\n",
    "             'C': {'C1': 0, 'C2': 10, 'C3': 29, 'C4': 40}, \\\n",
    "             'E': {'E1': 2, 'E2': 5, 'E3': 9}, \\\n",
    "             'A': {'A1': 0, 'A2': 20, 'A3': 25}, \\\n",
    "             'D': {'D1': 0, 'D2': 9, 'D3': 11, 'D4': 13, 'D5': 15}, \\\n",
    "                'min': 62}\n",
    "\n",
    "\n",
    "game1_score_community = {'B': {'B1': 10, 'B2': 8, 'B3': 2, 'B4': 0} ,\\\n",
    "                 'C': {'C1': 0, 'C2': 5, 'C3': 15, 'C4': 9}, \\\n",
    "                 'E': {'E1': 0, 'E2': 0, 'E3': 0}, \\\n",
    "                 'A': {'A1': 0, 'A2': 45, 'A3': 25}, \\\n",
    "                 'D': {'D1': 0, 'D2': 15, 'D3': 20, 'D4': 25, 'D5': 30}, \\\n",
    "                'min': 55}\n",
    "\n",
    "\n",
    "game1_score_tourism = {'B': {'B1': 10, 'B2': 20, 'B3': 25, 'B4': 30} ,\\\n",
    "                 'C': {'C1': 7, 'C2': 14, 'C3': 4, 'C4': 0}, \\\n",
    "                 'E': {'E1': 10, 'E2': 0, 'E3': 17}, \\\n",
    "                 'A': {'A1': 30, 'A2': 0, 'A3': 25}, \\\n",
    "                 'D': {'D1': 0, 'D2': 9, 'D3': 5, 'D4': 2, 'D5': 0}, \\\n",
    "                'min': 57}\n",
    "\n",
    "game1_score_construction = {'B': {'B1': 10, 'B2': 15, 'B3': 29, 'B4': 40}  ,\\\n",
    "                 'C': {'C1': 6, 'C2': 10, 'C3': 2, 'C4': 0}, \\\n",
    "                 'E': {'E1': 0, 'E2': 22, 'E3': 15}, \\\n",
    "                 'A': {'A1': 15, 'A2': 22, 'A3': 5}, \\\n",
    "                 'D': {'D1': 0, 'D2': 6, 'D3': 4, 'D4': 2, 'D5': 0}, \\\n",
    "                'min': 55}\n",
    "\n",
    "\n",
    "\n",
    "game1_parties = {'company': game1_score_company, 'bank': game1_score_bank, 'tourism': game1_score_tourism,  \"env\": game1_score_env, 'construction': game1_score_construction, 'community': game1_score_community}"
   ]
  },
  {
   "cell_type": "code",
   "execution_count": 3,
   "metadata": {},
   "outputs": [],
   "source": [
    "issue1_options = list(game1_score_company['A'].keys())\n",
    "issue2_options = list(game1_score_company['B'].keys())\n",
    "issue3_options = list(game1_score_company['C'].keys())\n",
    "issue4_options = list(game1_score_company['D'].keys())\n",
    "issue5_options = list(game1_score_company['E'].keys())\n",
    "\n",
    "deals= []\n",
    "def get_all_deals():\n",
    "    global deals\n",
    "    stack_ = []\n",
    "    for issue1_option in issue1_options:\n",
    "        stack_.append(issue1_option)\n",
    "        for issue2_option in issue2_options:\n",
    "            stack_.append(issue2_option)\n",
    "            for issue3_option in issue3_options:\n",
    "                stack_.append(issue3_option)\n",
    "                for issue4_option in issue4_options:\n",
    "                    stack_.append(issue4_option) \n",
    "                    for issue5_option in issue5_options:\n",
    "                        deals.append(stack_ + [issue5_option])\n",
    "                    stack_.pop()\n",
    "                stack_.pop()\n",
    "            stack_.pop()\n",
    "        stack_.pop()\n",
    "get_all_deals()"
   ]
  },
  {
   "cell_type": "code",
   "execution_count": 4,
   "metadata": {},
   "outputs": [
    {
     "data": {
      "text/plain": [
       "720"
      ]
     },
     "execution_count": 4,
     "metadata": {},
     "output_type": "execute_result"
    }
   ],
   "source": [
    "len(deals)"
   ]
  },
  {
   "cell_type": "code",
   "execution_count": 5,
   "metadata": {},
   "outputs": [],
   "source": [
    "def calculator(scores,deal):\n",
    "    deal_sum = 0\n",
    "    issues = ['A','B','C','D','E']\n",
    "    for i,issue in enumerate(deal):\n",
    "        deal_sum += scores[issues[i]][issue]\n",
    "    return deal_sum "
   ]
  },
  {
   "cell_type": "code",
   "execution_count": 6,
   "metadata": {},
   "outputs": [
    {
     "name": "stdout",
     "output_type": "stream",
     "text": [
      "57\n",
      "21\n",
      "{'company': 57, 'bank': 57, 'tourism': 47, 'env': 43, 'construction': 54, 'community': 48}\n"
     ]
    }
   ],
   "source": [
    "possible_deals = 0 \n",
    "possible_deals_all = 0 \n",
    "\n",
    "possible_per_party = {i:0 for i in game1_parties.keys()}\n",
    "\n",
    "veto_parties = ['company','bank']\n",
    "deals_5way = []\n",
    "deals_6way = []\n",
    "\n",
    "for deal in deals:\n",
    "    agree = []\n",
    "    veto_covered = [False for i in range(len(veto_parties))]\n",
    "    for party in game1_parties.keys():\n",
    "        deal_score = calculator(game1_parties[party], deal)\n",
    "        if deal_score >= game1_parties[party]['min']:\n",
    "            agree.append(party)\n",
    "            if party in veto_parties: veto_covered[veto_parties.index(party)] = True \n",
    "    if len(agree) >= 5 and all(veto_covered):\n",
    "        possible_deals += 1\n",
    "        deals_5way.append(deal)\n",
    "        for party in agree: possible_per_party[party] += 1\n",
    "    if len(agree) == 6:\n",
    "        possible_deals_all += 1\n",
    "        deals_6way.append(deal)\n",
    "\n",
    "print(possible_deals)\n",
    "print(possible_deals_all)\n",
    "print(possible_per_party)"
   ]
  },
  {
   "cell_type": "code",
   "execution_count": 7,
   "metadata": {},
   "outputs": [
    {
     "data": {
      "text/plain": [
       "[['A2', 'B3', 'C3', 'D2', 'E3'],\n",
       " ['A3', 'B3', 'C2', 'D3', 'E3'],\n",
       " ['A3', 'B3', 'C2', 'D4', 'E3'],\n",
       " ['A3', 'B3', 'C2', 'D5', 'E2'],\n",
       " ['A3', 'B3', 'C2', 'D5', 'E3'],\n",
       " ['A3', 'B3', 'C3', 'D2', 'E2'],\n",
       " ['A3', 'B3', 'C3', 'D2', 'E3'],\n",
       " ['A3', 'B3', 'C3', 'D3', 'E2'],\n",
       " ['A3', 'B3', 'C3', 'D4', 'E2'],\n",
       " ['A3', 'B3', 'C3', 'D5', 'E2'],\n",
       " ['A3', 'B3', 'C4', 'D2', 'E2'],\n",
       " ['A3', 'B3', 'C4', 'D3', 'E2'],\n",
       " ['A3', 'B3', 'C4', 'D4', 'E2'],\n",
       " ['A3', 'B4', 'C3', 'D4', 'E3'],\n",
       " ['A3', 'B4', 'C3', 'D5', 'E3'],\n",
       " ['A3', 'B4', 'C4', 'D2', 'E3'],\n",
       " ['A3', 'B4', 'C4', 'D3', 'E3'],\n",
       " ['A3', 'B4', 'C4', 'D4', 'E2'],\n",
       " ['A3', 'B4', 'C4', 'D4', 'E3'],\n",
       " ['A3', 'B4', 'C4', 'D5', 'E2'],\n",
       " ['A3', 'B4', 'C4', 'D5', 'E3']]"
      ]
     },
     "execution_count": 7,
     "metadata": {},
     "output_type": "execute_result"
    }
   ],
   "source": [
    "deals_6way"
   ]
  },
  {
   "cell_type": "code",
   "execution_count": 8,
   "metadata": {},
   "outputs": [
    {
     "data": {
      "text/plain": [
       "[['A1', 'B2', 'C4', 'D2', 'E2'],\n",
       " ['A1', 'B3', 'C3', 'D5', 'E2'],\n",
       " ['A1', 'B3', 'C3', 'D5', 'E3'],\n",
       " ['A1', 'B3', 'C4', 'D2', 'E3'],\n",
       " ['A1', 'B3', 'C4', 'D3', 'E2'],\n",
       " ['A1', 'B3', 'C4', 'D3', 'E3'],\n",
       " ['A1', 'B3', 'C4', 'D4', 'E2'],\n",
       " ['A1', 'B3', 'C4', 'D4', 'E3'],\n",
       " ['A1', 'B3', 'C4', 'D5', 'E2'],\n",
       " ['A1', 'B3', 'C4', 'D5', 'E3'],\n",
       " ['A2', 'B3', 'C2', 'D2', 'E3'],\n",
       " ['A2', 'B3', 'C2', 'D3', 'E3'],\n",
       " ['A2', 'B3', 'C2', 'D4', 'E3'],\n",
       " ['A2', 'B3', 'C3', 'D1', 'E3'],\n",
       " ['A2', 'B3', 'C3', 'D2', 'E2'],\n",
       " ['A2', 'B3', 'C3', 'D2', 'E3'],\n",
       " ['A2', 'B3', 'C3', 'D3', 'E2'],\n",
       " ['A2', 'B3', 'C3', 'D4', 'E2'],\n",
       " ['A2', 'B3', 'C3', 'D5', 'E2'],\n",
       " ['A2', 'B3', 'C4', 'D1', 'E2'],\n",
       " ['A2', 'B3', 'C4', 'D2', 'E2'],\n",
       " ['A2', 'B3', 'C4', 'D3', 'E2'],\n",
       " ['A2', 'B4', 'C4', 'D4', 'E3'],\n",
       " ['A2', 'B4', 'C4', 'D5', 'E3'],\n",
       " ['A3', 'B2', 'C2', 'D2', 'E2'],\n",
       " ['A3', 'B3', 'C1', 'D3', 'E2'],\n",
       " ['A3', 'B3', 'C1', 'D3', 'E3'],\n",
       " ['A3', 'B3', 'C1', 'D4', 'E2'],\n",
       " ['A3', 'B3', 'C1', 'D4', 'E3'],\n",
       " ['A3', 'B3', 'C2', 'D2', 'E2'],\n",
       " ['A3', 'B3', 'C2', 'D2', 'E3'],\n",
       " ['A3', 'B3', 'C2', 'D3', 'E2'],\n",
       " ['A3', 'B3', 'C2', 'D3', 'E3'],\n",
       " ['A3', 'B3', 'C2', 'D4', 'E2'],\n",
       " ['A3', 'B3', 'C2', 'D4', 'E3'],\n",
       " ['A3', 'B3', 'C2', 'D5', 'E2'],\n",
       " ['A3', 'B3', 'C2', 'D5', 'E3'],\n",
       " ['A3', 'B3', 'C3', 'D1', 'E2'],\n",
       " ['A3', 'B3', 'C3', 'D2', 'E2'],\n",
       " ['A3', 'B3', 'C3', 'D2', 'E3'],\n",
       " ['A3', 'B3', 'C3', 'D3', 'E2'],\n",
       " ['A3', 'B3', 'C3', 'D3', 'E3'],\n",
       " ['A3', 'B3', 'C3', 'D4', 'E2'],\n",
       " ['A3', 'B3', 'C3', 'D4', 'E3'],\n",
       " ['A3', 'B3', 'C3', 'D5', 'E2'],\n",
       " ['A3', 'B3', 'C4', 'D2', 'E2'],\n",
       " ['A3', 'B3', 'C4', 'D2', 'E3'],\n",
       " ['A3', 'B3', 'C4', 'D3', 'E2'],\n",
       " ['A3', 'B3', 'C4', 'D4', 'E2'],\n",
       " ['A3', 'B4', 'C3', 'D4', 'E3'],\n",
       " ['A3', 'B4', 'C3', 'D5', 'E3'],\n",
       " ['A3', 'B4', 'C4', 'D2', 'E3'],\n",
       " ['A3', 'B4', 'C4', 'D3', 'E3'],\n",
       " ['A3', 'B4', 'C4', 'D4', 'E2'],\n",
       " ['A3', 'B4', 'C4', 'D4', 'E3'],\n",
       " ['A3', 'B4', 'C4', 'D5', 'E2'],\n",
       " ['A3', 'B4', 'C4', 'D5', 'E3']]"
      ]
     },
     "execution_count": 8,
     "metadata": {},
     "output_type": "execute_result"
    }
   ],
   "source": [
    "deals_5way"
   ]
  },
  {
   "cell_type": "code",
   "execution_count": 9,
   "metadata": {},
   "outputs": [],
   "source": [
    "proposing_entity = \"company\"\n",
    "deals_proposing_entity = {}\n",
    "for deal in deals:\n",
    "    proposing_entity_score = calculator(game1_parties[proposing_entity], deal)\n",
    "    if proposing_entity_score >= game1_parties[proposing_entity]['min']:\n",
    "        if not proposing_entity_score in deals_proposing_entity:\n",
    "            deals_proposing_entity[proposing_entity_score] = {'deals':[], \"agrees\":[]}\n",
    "        deals_proposing_entity[proposing_entity_score][\"deals\"].append(deal)\n",
    "        agree = 0\n",
    "        for entity in game1_parties.keys():\n",
    "            if entity == proposing_entity: continue \n",
    "            other_entity_score = calculator(game1_parties[entity], deal)\n",
    "            if other_entity_score >= game1_parties[entity]['min']: agree += 1\n",
    "        deals_proposing_entity[proposing_entity_score][\"agrees\"].append(agree)"
   ]
  },
  {
   "cell_type": "code",
   "execution_count": 10,
   "metadata": {},
   "outputs": [],
   "source": [
    "sorted_scores = list(deals_proposing_entity.keys())\n",
    "sorted_scores.sort()\n",
    "mean_agree = []\n",
    "std_agree = []\n",
    "max_agree = []\n",
    "for score in sorted_scores:\n",
    "    mean_agree.append(np.mean(deals_proposing_entity[score][\"agrees\"]))\n",
    "    std_agree.append(np.std(deals_proposing_entity[score][\"agrees\"]))\n",
    "    max_agree.append(max(deals_proposing_entity[score][\"agrees\"]))"
   ]
  },
  {
   "cell_type": "code",
   "execution_count": 11,
   "metadata": {},
   "outputs": [
    {
     "data": {
      "image/png": "[encoded data removed]",
      "text/plain": [
       "<Figure size 640x480 with 1 Axes>"
      ]
     },
     "metadata": {},
     "output_type": "display_data"
    }
   ],
   "source": [
    "import matplotlib.pyplot as plt\n",
    "\n",
    "plt.rcParams['lines.linewidth'] = 3\n",
    "plt.rc('font', size=20)\n",
    "\n",
    "x = sorted_scores\n",
    "\n",
    "ax1 = plt.subplot(111)\n",
    "ax1.plot(x, max_agree)\n",
    "\n",
    "ax1.set_xlabel(r\"$p_1$'s score\")\n",
    "ax1.set_ylabel('Max. agree number')\n",
    "\n",
    "#savefig\n",
    "plt.show()"
   ]
  }
 ],
 "metadata": {
  "kernelspec": {
   "display_name": "Python 3 (ipykernel)",
   "language": "python",
   "name": "python3"
  },
  "language_info": {
   "codemirror_mode": {
    "name": "ipython",
    "version": 3
   },
   "file_extension": ".py",
   "mimetype": "text/x-python",
   "name": "python",
   "nbconvert_exporter": "python",
   "pygments_lexer": "ipython3",
   "version": "3.11.4"
  }
 },
 "nbformat": 4,
 "nbformat_minor": 4
}
