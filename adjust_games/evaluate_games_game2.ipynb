{
 "cells": [
  {
   "cell_type": "code",
   "execution_count": 1,
   "metadata": {},
   "outputs": [],
   "source": [
    "import json\n",
    "import re \n",
    "import numpy as np"
   ]
  },
  {
   "cell_type": "code",
   "execution_count": 2,
   "metadata": {},
   "outputs": [],
   "source": [
    "game1_manager = {'B': {'B1': 35, 'B2': 25, 'B3': 0} ,\\\n",
    "                 'C': {'C1': 17, 'C2': 0, 'C3': 5, 'C4': 10}, \\\n",
    "                 'E': {'E1': 11, 'E2': 0, 'E3': 7, 'E4': 7}, \\\n",
    "                 'A': {'A1': 5, 'A2': 10, 'A3': 23, 'A4': 15, 'A5': 5}, \\\n",
    "                 'D': {'D1': 0, 'D2': 14, 'D3': 8}, \\\n",
    "                'min': 59}\n",
    "\n",
    "game1_agency = {'B': {'B1': 0, 'B2': 7, 'B3': 4} ,\\\n",
    "                 'C': {'C1': 15, 'C2': 5, 'C3': 0, 'C4': 10}, \\\n",
    "                 'E': {'E1': 26, 'E2': 40, 'E3': 10, 'E4': 0}, \\\n",
    "                 'A': {'A1': 0, 'A2': 15, 'A3': 25, 'A4': 20, 'A5': 0}, \\\n",
    "                 'D': {'D1': 13, 'D2': 0, 'D3': 9}, \\\n",
    "                'min': 60}\n",
    "\n",
    "game1_ngo = {'B': {'B1': 0, 'B2': 35, 'B3': 40} ,\\\n",
    "                 'C': {'C1': 0, 'C2': 11, 'C3': 5, 'C4': 9}, \\\n",
    "                 'E': {'E1': 2, 'E2': 0, 'E3': 5, 'E4': 9}, \\\n",
    "                 'A': {'A1': 25, 'A2': 20, 'A3': 15, 'A4': 10, 'A5': 5}, \\\n",
    "                 'D': {'D1': 15, 'D2': 0, 'D3': 12}, \\\n",
    "                'min': 30}\n",
    "\n",
    "game1_landowners = {'B': {'B1': 16, 'B2': 12, 'B3': 5} ,\\\n",
    "                 'C': {'C1': 22, 'C2': 0, 'C3': 10, 'C4': 15}, \\\n",
    "                 'E': {'E1': 0, 'E2': 0, 'E3': 0, 'E4': 0}, \\\n",
    "                 'A': {'A1': 5, 'A2': 10, 'A3': 20, 'A4': 30, 'A5': 40}, \\\n",
    "                 'D': {'D1': 0, 'D2': 22, 'D3': 17}, \\\n",
    "                'min': 40}\n",
    "\n",
    "game1_gov = {'B': {'B1': 14, 'B2': 7, 'B3': 0} ,\\\n",
    "                 'C': {'C1': 0, 'C2': 0, 'C3': 35, 'C4': 25}, \\\n",
    "                 'E': {'E1': 0, 'E2': 0, 'E3': 17, 'E4': 10}, \\\n",
    "                 'A': {'A1': 0, 'A2': 10, 'A3': 15, 'A4': 20, 'A5': 25}, \\\n",
    "                 'D': {'D1': 0, 'D2': 9, 'D3': 5}, \\\n",
    "                'min': 37}\n",
    "\n",
    "\n",
    "game1_activists = {'B': {'B1': 0, 'B2': 12, 'B3': 14} ,\\\n",
    "                 'C': {'C1': 0, 'C2': 40, 'C3': 35, 'C4': 0}, \\\n",
    "                 'E': {'E1': 0, 'E2': 0, 'E3': 20, 'E4': 25}, \\\n",
    "                 'A': {'A1': 10, 'A2': 8, 'A3': 6, 'A4': 2, 'A5': 0}, \\\n",
    "                 'D': {'D1': 11, 'D2': 0, 'D3': 5}, \\\n",
    "                'min': 30}\n",
    "\n",
    "\n",
    "game1_parties = {'manager': game1_manager, \"agency\": game1_agency, 'activists': game1_activists, 'ngo': game1_ngo, 'gov': game1_gov, 'owners': game1_landowners}"
   ]
  },
  {
   "cell_type": "code",
   "execution_count": 3,
   "metadata": {},
   "outputs": [],
   "source": [
    "game1_average_scores = {'B1': 0, 'B2': 0, 'B3': 0 ,\\\n",
    "                 'C1': 0, 'C2': 0, 'C3': 0, 'C4': 0, \\\n",
    "                 'E1': 0, 'E2': 0, 'E3': 0, 'E4': 0, \\\n",
    "                 'A1': 0, 'A2': 0, 'A3': 0, 'A4': 0, 'A5': 0, \\\n",
    "                 'D1': 0, 'D2': 0, 'D3': 0}\n",
    "\n",
    "for party in game1_parties:\n",
    "    for issue in game1_parties[party]:\n",
    "        if issue == 'min': continue\n",
    "        for option in game1_parties[party][issue]:\n",
    "            game1_average_scores[option] += game1_parties[party][issue][option]\n",
    "\n",
    "for option in game1_average_scores:\n",
    "    game1_average_scores[option] /= 6"
   ]
  },
  {
   "cell_type": "code",
   "execution_count": 4,
   "metadata": {},
   "outputs": [],
   "source": [
    "issue1_options = list(game1_ngo['A'].keys())\n",
    "issue2_options = list(game1_ngo['B'].keys())\n",
    "issue3_options = list(game1_ngo['C'].keys())\n",
    "issue4_options = list(game1_ngo['D'].keys())\n",
    "issue5_options = list(game1_ngo['E'].keys())\n",
    "\n",
    "deals= []\n",
    "def get_all_deals():\n",
    "    global deals\n",
    "    stack_ = []\n",
    "    for issue1_option in issue1_options:\n",
    "        stack_.append(issue1_option)\n",
    "        for issue2_option in issue2_options:\n",
    "            stack_.append(issue2_option)\n",
    "            for issue3_option in issue3_options:\n",
    "                stack_.append(issue3_option)\n",
    "                for issue4_option in issue4_options:\n",
    "                    stack_.append(issue4_option) \n",
    "                    for issue5_option in issue5_options:\n",
    "                        deals.append(stack_ + [issue5_option])\n",
    "                    stack_.pop()\n",
    "                stack_.pop()\n",
    "            stack_.pop()\n",
    "        stack_.pop()\n",
    "get_all_deals()"
   ]
  },
  {
   "cell_type": "code",
   "execution_count": 5,
   "metadata": {},
   "outputs": [],
   "source": [
    "def calculator(scores,deal):\n",
    "    deal_sum = 0\n",
    "    issues = ['A','B','C','D','E']\n",
    "    for i,issue in enumerate(deal):\n",
    "        deal_sum += scores[issues[i]][issue]\n",
    "    return deal_sum "
   ]
  },
  {
   "cell_type": "code",
   "execution_count": 6,
   "metadata": {},
   "outputs": [
    {
     "name": "stdout",
     "output_type": "stream",
     "text": [
      "57\n",
      "18\n",
      "{'manager': 57, 'agency': 57, 'activists': 34, 'ngo': 52, 'gov': 46, 'owners': 57}\n"
     ]
    }
   ],
   "source": [
    "possible_deals = 0 \n",
    "possible_deals_all = 0 \n",
    "\n",
    "possible_per_party = {i:0 for i in game1_parties.keys()}\n",
    "\n",
    "veto_parties = ['agency','manager']\n",
    "deals_5way = []\n",
    "deals_6way = []\n",
    "\n",
    "for deal in deals:\n",
    "    agree = []\n",
    "    veto_covered = [False for i in range(len(veto_parties))]\n",
    "    for party in game1_parties.keys():\n",
    "        deal_score = calculator(game1_parties[party], deal)\n",
    "        if deal_score >= game1_parties[party]['min']:\n",
    "            agree.append(party)\n",
    "            if party in veto_parties: veto_covered[veto_parties.index(party)] = True \n",
    "    if len(agree) >= 5 and all(veto_covered):\n",
    "        possible_deals += 1\n",
    "        deals_5way.append(deal)\n",
    "        for party in agree: possible_per_party[party] += 1\n",
    "    if len(agree) == 6:\n",
    "        possible_deals_all += 1\n",
    "        deals_6way.append(deal)\n",
    "\n",
    "print(possible_deals)\n",
    "print(possible_deals_all)\n",
    "print(possible_per_party)"
   ]
  },
  {
   "cell_type": "code",
   "execution_count": 7,
   "metadata": {},
   "outputs": [
    {
     "data": {
      "text/plain": [
       "[['A3', 'B1', 'C1', 'D1', 'E3'],\n",
       " ['A3', 'B1', 'C3', 'D1', 'E1'],\n",
       " ['A3', 'B1', 'C3', 'D1', 'E2'],\n",
       " ['A3', 'B1', 'C3', 'D3', 'E1'],\n",
       " ['A3', 'B1', 'C3', 'D3', 'E2'],\n",
       " ['A3', 'B2', 'C1', 'D1', 'E3'],\n",
       " ['A3', 'B2', 'C1', 'D3', 'E3'],\n",
       " ['A3', 'B2', 'C3', 'D1', 'E1'],\n",
       " ['A3', 'B2', 'C3', 'D2', 'E2'],\n",
       " ['A3', 'B2', 'C3', 'D3', 'E1'],\n",
       " ['A3', 'B2', 'C3', 'D3', 'E2'],\n",
       " ['A3', 'B2', 'C4', 'D1', 'E3'],\n",
       " ['A3', 'B2', 'C4', 'D3', 'E3'],\n",
       " ['A4', 'B1', 'C2', 'D3', 'E1'],\n",
       " ['A4', 'B2', 'C1', 'D1', 'E3'],\n",
       " ['A4', 'B2', 'C1', 'D3', 'E3'],\n",
       " ['A4', 'B2', 'C3', 'D2', 'E2'],\n",
       " ['A4', 'B2', 'C3', 'D3', 'E1']]"
      ]
     },
     "execution_count": 7,
     "metadata": {},
     "output_type": "execute_result"
    }
   ],
   "source": [
    "deals_6way"
   ]
  },
  {
   "cell_type": "code",
   "execution_count": 8,
   "metadata": {},
   "outputs": [
    {
     "data": {
      "text/plain": [
       "[['A2', 'B1', 'C2', 'D2', 'E2'],\n",
       " ['A2', 'B1', 'C4', 'D1', 'E1'],\n",
       " ['A2', 'B1', 'C4', 'D3', 'E1'],\n",
       " ['A2', 'B1', 'C4', 'D3', 'E2'],\n",
       " ['A2', 'B2', 'C1', 'D1', 'E1'],\n",
       " ['A2', 'B2', 'C1', 'D1', 'E3'],\n",
       " ['A2', 'B2', 'C4', 'D2', 'E2'],\n",
       " ['A2', 'B2', 'C4', 'D3', 'E1'],\n",
       " ['A3', 'B1', 'C1', 'D1', 'E3'],\n",
       " ['A3', 'B1', 'C2', 'D2', 'E2'],\n",
       " ['A3', 'B1', 'C2', 'D3', 'E1'],\n",
       " ['A3', 'B1', 'C2', 'D3', 'E2'],\n",
       " ['A3', 'B1', 'C3', 'D1', 'E1'],\n",
       " ['A3', 'B1', 'C3', 'D1', 'E2'],\n",
       " ['A3', 'B1', 'C3', 'D2', 'E2'],\n",
       " ['A3', 'B1', 'C3', 'D3', 'E1'],\n",
       " ['A3', 'B1', 'C3', 'D3', 'E2'],\n",
       " ['A3', 'B1', 'C4', 'D1', 'E1'],\n",
       " ['A3', 'B1', 'C4', 'D1', 'E2'],\n",
       " ['A3', 'B1', 'C4', 'D3', 'E1'],\n",
       " ['A3', 'B1', 'C4', 'D3', 'E2'],\n",
       " ['A3', 'B2', 'C1', 'D1', 'E3'],\n",
       " ['A3', 'B2', 'C1', 'D1', 'E4'],\n",
       " ['A3', 'B2', 'C1', 'D3', 'E3'],\n",
       " ['A3', 'B2', 'C2', 'D2', 'E1'],\n",
       " ['A3', 'B2', 'C2', 'D2', 'E2'],\n",
       " ['A3', 'B2', 'C2', 'D3', 'E1'],\n",
       " ['A3', 'B2', 'C3', 'D1', 'E1'],\n",
       " ['A3', 'B2', 'C3', 'D2', 'E2'],\n",
       " ['A3', 'B2', 'C3', 'D3', 'E1'],\n",
       " ['A3', 'B2', 'C3', 'D3', 'E2'],\n",
       " ['A3', 'B2', 'C4', 'D1', 'E1'],\n",
       " ['A3', 'B2', 'C4', 'D1', 'E3'],\n",
       " ['A3', 'B2', 'C4', 'D2', 'E1'],\n",
       " ['A3', 'B2', 'C4', 'D2', 'E2'],\n",
       " ['A3', 'B2', 'C4', 'D3', 'E1'],\n",
       " ['A3', 'B2', 'C4', 'D3', 'E2'],\n",
       " ['A3', 'B2', 'C4', 'D3', 'E3'],\n",
       " ['A4', 'B1', 'C2', 'D1', 'E1'],\n",
       " ['A4', 'B1', 'C2', 'D2', 'E2'],\n",
       " ['A4', 'B1', 'C2', 'D3', 'E1'],\n",
       " ['A4', 'B1', 'C3', 'D2', 'E2'],\n",
       " ['A4', 'B1', 'C3', 'D3', 'E2'],\n",
       " ['A4', 'B1', 'C4', 'D1', 'E1'],\n",
       " ['A4', 'B1', 'C4', 'D1', 'E2'],\n",
       " ['A4', 'B1', 'C4', 'D3', 'E1'],\n",
       " ['A4', 'B1', 'C4', 'D3', 'E2'],\n",
       " ['A4', 'B2', 'C1', 'D1', 'E3'],\n",
       " ['A4', 'B2', 'C1', 'D3', 'E3'],\n",
       " ['A4', 'B2', 'C2', 'D3', 'E1'],\n",
       " ['A4', 'B2', 'C3', 'D2', 'E2'],\n",
       " ['A4', 'B2', 'C3', 'D3', 'E1'],\n",
       " ['A4', 'B2', 'C4', 'D1', 'E1'],\n",
       " ['A4', 'B2', 'C4', 'D2', 'E1'],\n",
       " ['A4', 'B2', 'C4', 'D2', 'E2'],\n",
       " ['A4', 'B2', 'C4', 'D3', 'E1'],\n",
       " ['A5', 'B2', 'C1', 'D2', 'E2']]"
      ]
     },
     "execution_count": 8,
     "metadata": {},
     "output_type": "execute_result"
    }
   ],
   "source": [
    "deals_5way"
   ]
  },
  {
   "cell_type": "code",
   "execution_count": 9,
   "metadata": {},
   "outputs": [],
   "source": [
    "proposing_entity = \"manager\"\n",
    "deals_proposing_entity = {}\n",
    "for deal in deals:\n",
    "    proposing_entity_score = calculator(game1_parties[proposing_entity], deal)\n",
    "    if proposing_entity_score >= game1_parties[proposing_entity]['min']:\n",
    "        if not proposing_entity_score in deals_proposing_entity:\n",
    "            deals_proposing_entity[proposing_entity_score] = {'deals':[], \"agrees\":[]}\n",
    "        deals_proposing_entity[proposing_entity_score][\"deals\"].append(deal)\n",
    "        agree = 0\n",
    "        for entity in game1_parties.keys():\n",
    "            if entity == proposing_entity: continue \n",
    "            other_entity_score = calculator(game1_parties[entity], deal)\n",
    "            if other_entity_score >= game1_parties[entity]['min']: agree += 1\n",
    "        deals_proposing_entity[proposing_entity_score][\"agrees\"].append(agree)"
   ]
  },
  {
   "cell_type": "code",
   "execution_count": 10,
   "metadata": {},
   "outputs": [],
   "source": [
    "sorted_scores = list(deals_proposing_entity.keys())\n",
    "sorted_scores.sort()\n",
    "mean_agree = []\n",
    "std_agree = []\n",
    "max_agree = []\n",
    "for score in sorted_scores:\n",
    "    mean_agree.append(np.mean(deals_proposing_entity[score][\"agrees\"]))\n",
    "    std_agree.append(np.std(deals_proposing_entity[score][\"agrees\"]))\n",
    "    max_agree.append(max(deals_proposing_entity[score][\"agrees\"]))"
   ]
  },
  {
   "cell_type": "code",
   "execution_count": 11,
   "metadata": {},
   "outputs": [
    {
     "data": {
      "image/png": "[encoded data removed]",
      "text/plain": [
       "<Figure size 600x400 with 1 Axes>"
      ]
     },
     "metadata": {},
     "output_type": "display_data"
    }
   ],
   "source": [
    "import matplotlib.pyplot as plt\n",
    "import matplotlib\n",
    "matplotlib.rcParams['pdf.fonttype'] = 42\n",
    "matplotlib.rcParams['ps.fonttype'] = 42\n",
    "\n",
    "plt.rcParams['lines.linewidth'] = 3\n",
    "plt.rc('font', size=20)\n",
    "plt.figure(figsize=(6, 4))\n",
    "\n",
    "\n",
    "x = sorted_scores\n",
    "\n",
    "ax1 = plt.subplot(111)\n",
    "ax1.plot(x, max_agree)\n",
    "\n",
    "ax1.set_xlabel(r\"$p_1$'s score\")\n",
    "ax1.set_ylabel('Max. agree number')\n",
    "\n",
    "#savefig\n",
    "plt.show()"
   ]
  }
 ],
 "metadata": {
  "kernelspec": {
   "display_name": "Python 3 (ipykernel)",
   "language": "python",
   "name": "python3"
  },
  "language_info": {
   "codemirror_mode": {
    "name": "ipython",
    "version": 3
   },
   "file_extension": ".py",
   "mimetype": "text/x-python",
   "name": "python",
   "nbconvert_exporter": "python",
   "pygments_lexer": "ipython3",
   "version": "3.11.4"
  }
 },
 "nbformat": 4,
 "nbformat_minor": 4
}
